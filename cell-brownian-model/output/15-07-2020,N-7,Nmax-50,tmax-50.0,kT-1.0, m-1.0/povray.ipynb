{
 "cells": [
  {
   "cell_type": "code",
   "execution_count": 1,
   "metadata": {},
   "outputs": [
    {
     "data": {
      "text/html": [
       "<style>.container { width:100% !important; }</style>"
      ],
      "text/plain": [
       "<IPython.core.display.HTML object>"
      ]
     },
     "metadata": {},
     "output_type": "display_data"
    }
   ],
   "source": [
    "from IPython.core.display import display, HTML\n",
    "display(HTML(\"<style>.container { width:100% !important; }</style>\"))"
   ]
  },
  {
   "cell_type": "code",
   "execution_count": 2,
   "metadata": {},
   "outputs": [
    {
     "name": "stdout",
     "output_type": "stream",
     "text": [
      "{'Ncells': 7.0, 'Nmax': 50.0, 'Box size': 3.0, 'k': 10.0, 'Î¼': 1.0, 'kT': 1.0, 'Ïµ': 10.0, 'Ïƒ': 0.5, 'D': 0.1061032953945969, 'tmax': 50.0, 'dt': 0.0001, 'outputInterval': 0.5, 'lifetime': 8.0, 'm': 1.0}\n"
     ]
    }
   ],
   "source": [
    "#! /usr/local/bin/python3\n",
    "import numpy as np\n",
    "import os\n",
    "from sys import argv\n",
    "\n",
    "\n",
    "data= np.genfromtxt(\"output.txt\",delimiter=\", \")\n",
    "\n",
    "conditions = {}\n",
    "with open(\"conditions.txt\") as f:\n",
    "    for line in f:\n",
    "        (key, val) = line.split(\",\")[0:2] \n",
    "        conditions[key] = float(val)\n",
    "print(conditions)"
   ]
  },
  {
   "cell_type": "code",
   "execution_count": 11,
   "metadata": {},
   "outputs": [
    {
     "data": {
      "text/plain": [
       "1"
      ]
     },
     "execution_count": 11,
     "metadata": {},
     "output_type": "execute_result"
    }
   ],
   "source": [
    "#for i in range(int(conditions[\"tmax\"]/conditions[\"outputInterval\"])):\n",
    "os.system(\"clear\")\n",
    "#print(\"Rendering {}/{}\".format(i,int(conditions[\"tmax\"]/conditions[\"outputInterval\"])))\n",
    "outfile = open(\"povrayoutput.pov\",\"w\")\n",
    "outfile.write(\"#include \\\"colors.inc\\\"\\n\")\n",
    "outfile.write(\"camera {\\n\" )\n",
    "outfile.write(\"  sky <0,0,1>           \\n\")\n",
    "outfile.write(\"  direction <-1,0,0>      \\n\")\n",
    "outfile.write(\"  right <-4/3,0,0>      \\n\")\n",
    "outfile.write(\"  location <20,-20,20> \\n\" )\n",
    "outfile.write(\"  look_at <0,0,0>     \\n\" )\n",
    "outfile.write(\"  angle 10      \\n\")\n",
    "outfile.write(\"}\\n\")\n",
    "outfile.write(\"global_settings { ambient_light White }\\n\")\n",
    "outfile.write(\"light_source {\\n\" )\n",
    "outfile.write(\"  <10,-10,20>   \\n\")\n",
    "outfile.write(\"  color White*2 \\n\")\n",
    "outfile.write(\"}\\n\")\n",
    "outfile.write(\"background { color White }\\n\" )\n",
    "#subdata = array at a particular timestep, as output contains all the timesteps\n",
    "subdata = data[-50:,:] #just need the last 50 lines (including the 50th one)\n",
    "\n",
    "for j in range(50):\n",
    "    outfile.write(\"sphere{{<{},{},{}>,{} texture{{pigment{{color Blue}}}}}}\\n\".format(subdata[j,0],subdata[j,1],subdata[j,2], 0.25*(1+(subdata[j,3]/conditions[\"lifetime\"]))))\n",
    "outfile.close()\n",
    "os.system(\"povray povrayoutput.pov\")\n",
    "#os.system(\"rm {}/povrayTmp{:03d}.pov\".format(argv[1],i))\n",
    "\n"
   ]
  },
  {
   "cell_type": "code",
   "execution_count": null,
   "metadata": {},
   "outputs": [],
   "source": []
  }
 ],
 "metadata": {
  "kernelspec": {
   "display_name": "Python 3",
   "language": "python",
   "name": "python3"
  },
  "language_info": {
   "codemirror_mode": {
    "name": "ipython",
    "version": 3
   },
   "file_extension": ".py",
   "mimetype": "text/x-python",
   "name": "python",
   "nbconvert_exporter": "python",
   "pygments_lexer": "ipython3",
   "version": "3.7.7"
  }
 },
 "nbformat": 4,
 "nbformat_minor": 4
}
