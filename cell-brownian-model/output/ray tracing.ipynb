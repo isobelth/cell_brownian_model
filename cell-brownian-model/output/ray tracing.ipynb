{
 "cells": [
  {
   "cell_type": "code",
   "execution_count": 1,
   "metadata": {},
   "outputs": [
    {
     "ename": "NameError",
     "evalue": "name 'conditions' is not defined",
     "output_type": "error",
     "traceback": [
      "\u001b[1;31m---------------------------------------------------------------------------\u001b[0m",
      "\u001b[1;31mNameError\u001b[0m                                 Traceback (most recent call last)",
      "\u001b[1;32m<ipython-input-1-ada583817297>\u001b[0m in \u001b[0;36m<module>\u001b[1;34m\u001b[0m\n\u001b[0;32m      9\u001b[0m \u001b[1;33m\u001b[0m\u001b[0m\n\u001b[0;32m     10\u001b[0m \u001b[1;33m\u001b[0m\u001b[0m\n\u001b[1;32m---> 11\u001b[1;33m \u001b[1;32mfor\u001b[0m \u001b[0mi\u001b[0m \u001b[1;32min\u001b[0m \u001b[0mrange\u001b[0m\u001b[1;33m(\u001b[0m\u001b[0mint\u001b[0m\u001b[1;33m(\u001b[0m\u001b[0mconditions\u001b[0m\u001b[1;33m[\u001b[0m\u001b[1;34m\"tmax\"\u001b[0m\u001b[1;33m]\u001b[0m\u001b[1;33m/\u001b[0m\u001b[0mconditions\u001b[0m\u001b[1;33m[\u001b[0m\u001b[1;34m\"outputInterval\"\u001b[0m\u001b[1;33m]\u001b[0m\u001b[1;33m)\u001b[0m\u001b[1;33m)\u001b[0m\u001b[1;33m:\u001b[0m\u001b[1;33m\u001b[0m\u001b[1;33m\u001b[0m\u001b[0m\n\u001b[0m\u001b[0;32m     12\u001b[0m     \u001b[0mos\u001b[0m\u001b[1;33m.\u001b[0m\u001b[0msystem\u001b[0m\u001b[1;33m(\u001b[0m\u001b[1;34m\"clear\"\u001b[0m\u001b[1;33m)\u001b[0m\u001b[1;33m\u001b[0m\u001b[1;33m\u001b[0m\u001b[0m\n\u001b[0;32m     13\u001b[0m     \u001b[0mprint\u001b[0m\u001b[1;33m(\u001b[0m\u001b[1;34m\"Rendering {}/{}\"\u001b[0m\u001b[1;33m.\u001b[0m\u001b[0mformat\u001b[0m\u001b[1;33m(\u001b[0m\u001b[0mi\u001b[0m\u001b[1;33m,\u001b[0m\u001b[0mint\u001b[0m\u001b[1;33m(\u001b[0m\u001b[0mconditions\u001b[0m\u001b[1;33m[\u001b[0m\u001b[1;34m\"tmax\"\u001b[0m\u001b[1;33m]\u001b[0m\u001b[1;33m/\u001b[0m\u001b[0mconditions\u001b[0m\u001b[1;33m[\u001b[0m\u001b[1;34m\"outputInterval\"\u001b[0m\u001b[1;33m]\u001b[0m\u001b[1;33m)\u001b[0m\u001b[1;33m)\u001b[0m\u001b[1;33m)\u001b[0m\u001b[1;33m\u001b[0m\u001b[1;33m\u001b[0m\u001b[0m\n",
      "\u001b[1;31mNameError\u001b[0m: name 'conditions' is not defined"
     ]
    }
   ],
   "source": [
    "#! /usr/local/bin/python3\n",
    "import numpy as np\n",
    "import os\n",
    "from sys import argv\n",
    "\n",
    "\n",
    "data= np.genfromtxt(\"3doutput.txt\".format(argv[1]),delimiter=\", \")\n",
    "\n",
    "for i in range(int(conditions[\"tmax\"]/conditions[\"outputInterval\"])):\n",
    "    os.system(\"clear\")\n",
    "    print(\"Rendering {}/{}\".format(i,int(conditions[\"tmax\"]/conditions[\"outputInterval\"])))\n",
    "    outfile = open(\"{}/povrayTmp{:03d}.pov\".format(argv[1],i),\"w\")\n",
    "    outfile.write(\"#include \\\"colors.inc\\\"\\n\")\n",
    "    outfile.write(\"camera {\\n\" )\n",
    "    outfile.write(\"  sky <0,0,1>           \\n\")\n",
    "    outfile.write(\"  direction <-1,0,0>      \\n\")\n",
    "    outfile.write(\"  right <-4/3,0,0>      \\n\")\n",
    "    outfile.write(\"  location <0,-5,10> \\n\" )\n",
    "    outfile.write(\"  look_at <0,0,0>     \\n\" )\n",
    "    outfile.write(\"  angle 15      \\n\")\n",
    "    outfile.write(\"}\\n\")\n",
    "    outfile.write(\"global_settings { ambient_light White }\\n\")\n",
    "    outfile.write(\"light_source {\\n\" )\n",
    "    outfile.write(\"  <10,-10,20>   \\n\")\n",
    "    outfile.write(\"  color White*2 \\n\")\n",
    "    outfile.write(\"}\\n\")\n",
    "    outfile.write(\"background { color White }\\n\" )\n",
    "    subdata = data[i*int(conditions[\"Ntrimers\"])*int(conditions[\"Ndomains\"]):(i+1)*int(conditions[\"Ntrimers\"])*int(conditions[\"Ndomains\"]),:]\n",
    "    for j in range(int(conditions[\"Ntrimers\"])):\n",
    "        for k in range(int(conditions[\"Ndomains\"])-1):\n",
    "            outfile.write(\"sphere{{<{},{},{}>,{} texture{{pigment{{color Green}}}}}}\\n\".format(subdata[j*int(conditions[\"Ndomains\"])+k,0],subdata[j*int(conditions[\"Ndomains\"])+k,1],subdata[j*int(conditions[\"Ndomains\"])+k,2],conditions[\"σ\"]/2.0))\n",
    "            outfile.write(\"cylinder{{<{},{},{}>,<{},{},{}>,{} texture{{pigment{{color Green}}}}}}\\n\".format(subdata[j*int(conditions[\"Ndomains\"])+k,0],subdata[j*int(conditions[\"Ndomains\"])+k,1],subdata[j*int(conditions[\"Ndomains\"])+k,2],subdata[j*int(conditions[\"Ndomains\"])+k+1,0],subdata[j*int(conditions[\"Ndomains\"])+k+1,1],subdata[j*int(conditions[\"Ndomains\"])+k+1,2],conditions[\"σ\"]/2.0))\n",
    "        outfile.write(\"sphere{{<{},{},{}>,{} texture{{pigment{{color Green}}}}}}\\n\".format(subdata[int(conditions[\"Ndomains\"])*(j+1)-1,0],subdata[int(conditions[\"Ndomains\"])*(j+1)-1,1],subdata[int(conditions[\"Ndomains\"])*(j+1)-1,2],conditions[\"σ\"]/2.0))\n",
    "    #for j in range(int(conditions[\"Ntrimers\"])*int(conditions[\"Ndomains\"])):\n",
    "    #    outfile.write(\"sphere{{<{},{},{}>,{} texture{{pigment{{color Green}}}}}}\\n\".format(subdata[j,0],subdata[j,1],subdata[j,2],conditions[\"σ\"]/2.0))\n",
    "    outfile.close()\n",
    "    os.system(\"povray {}/povrayTmp{:03d}.pov > /dev/null 2>&1\".format(argv[1],i))\n",
    "    os.system(\"rm {}/povrayTmp{:03d}.pov\".format(argv[1],i))\n",
    "\n",
    "os.system(\"convert -delay 10 -loop 0 {}/povrayTmp*.png {}/animated.gif\".format(argv[1],argv[1]))\n",
    "os.system(\"rm {}/*.png\".format(argv[1]))\n"
   ]
  },
  {
   "cell_type": "code",
   "execution_count": null,
   "metadata": {},
   "outputs": [],
   "source": []
  }
 ],
 "metadata": {
  "kernelspec": {
   "display_name": "Python 3",
   "language": "python",
   "name": "python3"
  },
  "language_info": {
   "codemirror_mode": {
    "name": "ipython",
    "version": 3
   },
   "file_extension": ".py",
   "mimetype": "text/x-python",
   "name": "python",
   "nbconvert_exporter": "python",
   "pygments_lexer": "ipython3",
   "version": "3.7.7"
  }
 },
 "nbformat": 4,
 "nbformat_minor": 4
}
