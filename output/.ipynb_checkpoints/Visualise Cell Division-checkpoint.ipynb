{
 "cells": [
  {
   "cell_type": "code",
   "execution_count": 6,
   "metadata": {},
   "outputs": [],
   "source": [
    "import matplotlib.pyplot as plt\n",
    "import numpy as np\n",
    "from mpl_toolkits import mplot3d\n",
    "import imageio"
   ]
  },
  {
   "cell_type": "code",
   "execution_count": 7,
   "metadata": {},
   "outputs": [],
   "source": [
    "def print_a_circle(file_lines, start_row, end_row, r):    \n",
    "    u = np.linspace(0, 2 * np.pi, 100)\n",
    "    v = np.linspace(0, np.pi, 100)\n",
    "    for i in range (start_row, end_row):\n",
    "        x_centre = file_lines[i][0]        \n",
    "        y_centre = file_lines[i][1]        \n",
    "        z_centre = file_lines[i][2]    \n",
    "        x = r * np.outer(np.cos(u), np.sin(v)) + x_centre\n",
    "        y = r * np.outer(np.sin(u), np.sin(v)) + y_centre\n",
    "        z = r * np.outer(np.ones(np.size(u)), np.cos(v)) + z_centre\n",
    "        ax.plot_surface(x, y, z,  rstride=4, cstride=4, color='b', linewidth=0, alpha=0.3)\n"
   ]
  },
  {
   "cell_type": "code",
   "execution_count": 8,
   "metadata": {},
   "outputs": [],
   "source": [
    "def find_the_max_and_min_coordinates(file_lines):\n",
    "    x_max = (np.array(file_lines).max(axis=0))[0]\n",
    "    y_max = (np.array(file_lines).max(axis=0))[1]\n",
    "    z_max = (np.array(file_lines).max(axis=0))[2]\n",
    "    x_min = (np.array(file_lines).min(axis=0))[0]\n",
    "    y_min = (np.array(file_lines).min(axis=0))[1]\n",
    "    z_min = (np.array(file_lines).min(axis=0))[2]\n",
    "    return x_max, y_max, z_max, x_min, y_min, z_min"
   ]
  },
  {
   "cell_type": "code",
   "execution_count": 9,
   "metadata": {},
   "outputs": [
    {
     "name": "stdout",
     "output_type": "stream",
     "text": [
      "zmin =  -6.216994559746169\n",
      "X_max =  6.806212946052213\n"
     ]
    }
   ],
   "source": [
    "file_lines = []\n",
    "with open (\"3doutput.txt\") as my_file:\n",
    "    for line in my_file:\n",
    "        line = line.strip()\n",
    "        temp = line.split(\",\")\n",
    "        file_lines.append([float(temp[0]), float(temp[1]), float(temp[2])])      \n",
    "x_max, y_max, z_max, x_min, y_min, z_min = find_the_max_and_min_coordinates(file_lines)\n",
    "print(\"zmin = \", z_min)\n",
    "print(\"X_max = \", x_max)"
   ]
  },
  {
   "cell_type": "code",
   "execution_count": 10,
   "metadata": {},
   "outputs": [],
   "source": [
    "max_line = (len(file_lines))\n",
    "start_line = 0\n",
    "#while start_line < 10:\n",
    "while start_line < max_line - 19:\n",
    "    fig = plt.figure()\n",
    " \n",
    "    fig.suptitle('Startline = {}'.format(start_line), fontsize=12)\n",
    "    ax = fig.add_subplot(111, projection='3d')\n",
    "    ax.set_xlabel(\"X\")\n",
    "    ax.set_ylabel(\"Y\")\n",
    "    ax.set_zlabel(\"Z\")\n",
    "    ax = plt.gca()\n",
    "    ax.set_xlim3d((x_min, x_max))\n",
    "    ax.set_ylim3d((y_min, y_max))\n",
    "    ax.set_zlim3d((z_min, z_max))\n",
    "    xs = []\n",
    "    ys = []\n",
    "    zs = []\n",
    "#     for i in range (start_line, start_line + 10):\n",
    "#         xs.append(file_lines[i][0])\n",
    "#         ys.append(file_lines[i][1])\n",
    "#         zs.append(file_lines[i][2])\n",
    "#     ax.scatter(xs, ys, zs)\n",
    "    print_a_circle(file_lines, start_line, start_line+20, 0.5)\n",
    "    plt.savefig(\"Startline = {}\".format(start_line))\n",
    "    plt.close()\n",
    "\n",
    "    \n",
    "    start_line += 20\n"
   ]
  },
  {
   "cell_type": "code",
   "execution_count": 12,
   "metadata": {},
   "outputs": [],
   "source": [
    "filenames= [\"Startline = {}.png\".format(20*x) for x in range(99)]\n",
    "\n",
    "images = []\n",
    "for filename in filenames:\n",
    "    images.append(imageio.imread(filename))\n",
    "imageio.mimsave('output.gif', images, fps=10)"
   ]
  },
  {
   "cell_type": "code",
   "execution_count": null,
   "metadata": {},
   "outputs": [],
   "source": []
  }
 ],
 "metadata": {
  "kernelspec": {
   "display_name": "Python 3",
   "language": "python",
   "name": "python3"
  },
  "language_info": {
   "codemirror_mode": {
    "name": "ipython",
    "version": 3
   },
   "file_extension": ".py",
   "mimetype": "text/x-python",
   "name": "python",
   "nbconvert_exporter": "python",
   "pygments_lexer": "ipython3",
   "version": "3.7.7"
  }
 },
 "nbformat": 4,
 "nbformat_minor": 4
}
